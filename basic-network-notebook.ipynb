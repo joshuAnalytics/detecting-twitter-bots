{
 "cells": [
  {
   "cell_type": "code",
   "execution_count": 13,
   "metadata": {
    "collapsed": false
   },
   "outputs": [
    {
     "name": "stdout",
     "output_type": "stream",
     "text": [
      "mapping ids...\n",
      "creating nodes...\n",
      "creating edges...\n",
      "rendering chart...\n"
     ]
    },
    {
     "data": {
      "image/png": "[encoded data removed]",
      "text/plain": [
       "<matplotlib.figure.Figure at 0x2c8a875ac18>"
      ]
     },
     "metadata": {},
     "output_type": "display_data"
    }
   ],
   "source": [
    "import csv\n",
    "import networkx as nx\n",
    "import matplotlib.pyplot as plt\n",
    "%matplotlib inline\n",
    "\n",
    "with open('test.csv','rt') as heroIn: # reads in the network file\n",
    "    heroIn = csv.reader(heroIn)\n",
    "    headers = next(heroIn)\n",
    "    heroes = [row for row in heroIn]\n",
    "    \n",
    "uniqueHeroes = list(set([row[0] for row in heroes])) #takes the reduantices of the superhero networks\n",
    "\n",
    "id=list(enumerate(uniqueHeroes))# creates a list of tuples with unique ids and their names for each superhero in the network\n",
    "\n",
    "keys = {name: i for i, name in enumerate(uniqueHeroes)} #creates a dictionary(hash map) that maps each id to the superhero names\n",
    " \n",
    "links = [] #creates a blank list\n",
    "print ('mapping ids...')\n",
    "for row in heroes: #maps all of the names in the csv file to their id number\n",
    "    try:\n",
    "        links.append({keys[row[0]]: keys[row[1]]})\n",
    "    except: \n",
    "        links.append({row[0]: row[1]})\n",
    "\n",
    "G = nx.Graph() #creates a graph\n",
    "heroNodeId=[] #takes source and target edges\n",
    "\n",
    "for row in id:\n",
    "    heroNodeId.append(row[0])\n",
    "\n",
    "print ('creating nodes...')    \n",
    "G.add_nodes_from(heroNodeId) #creates nodes for the graph.\n",
    "print ('creating edges...')\n",
    "for node in links:#loops through each link and changes each dictionary to a tuple so networkx can read in the information\n",
    "    edges = list(node.items())\n",
    "    G.add_edge(*edges[0])#takes the tuple from the list and unpacks the tuples\n",
    "print ('rendering chart...')\n",
    "nx.draw_networkx(G)"
   ]
  },
  {
   "cell_type": "code",
   "execution_count": null,
   "metadata": {
    "collapsed": false
   },
   "outputs": [],
   "source": []
  },
  {
   "cell_type": "code",
   "execution_count": null,
   "metadata": {
    "collapsed": false
   },
   "outputs": [],
   "source": []
  },
  {
   "cell_type": "code",
   "execution_count": null,
   "metadata": {
    "collapsed": false
   },
   "outputs": [],
   "source": []
  },
  {
   "cell_type": "code",
   "execution_count": null,
   "metadata": {
    "collapsed": false
   },
   "outputs": [],
   "source": []
  },
  {
   "cell_type": "code",
   "execution_count": null,
   "metadata": {
    "collapsed": true
   },
   "outputs": [],
   "source": []
  }
 ],
 "metadata": {
  "kernelspec": {
   "display_name": "Python 3",
   "language": "python",
   "name": "python3"
  },
  "language_info": {
   "codemirror_mode": {
    "name": "ipython",
    "version": 3
   },
   "file_extension": ".py",
   "mimetype": "text/x-python",
   "name": "python",
   "nbconvert_exporter": "python",
   "pygments_lexer": "ipython3",
   "version": "3.6.0"
  }
 },
 "nbformat": 4,
 "nbformat_minor": 2
}
