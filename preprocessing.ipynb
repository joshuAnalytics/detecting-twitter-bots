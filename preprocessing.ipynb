{
 "cells": [
  {
   "cell_type": "code",
   "execution_count": null,
   "metadata": {
    "collapsed": false
   },
   "outputs": [],
   "source": []
  },
  {
   "cell_type": "code",
   "execution_count": 1,
   "metadata": {
    "collapsed": false
   },
   "outputs": [
    {
     "name": "stderr",
     "output_type": "stream",
     "text": [
      "C:\\Users\\joshua.bramall\\AppData\\Local\\Continuum\\Anaconda3\\lib\\site-packages\\matplotlib\\__init__.py:1401: UserWarning:  This call to matplotlib.use() has no effect\n",
      "because the backend has already been chosen;\n",
      "matplotlib.use() must be called *before* pylab, matplotlib.pyplot,\n",
      "or matplotlib.backends is imported for the first time.\n",
      "\n",
      "  warnings.warn(_use_error_msg)\n"
     ]
    }
   ],
   "source": [
    "import glob\n",
    "import seaborn as sns\n",
    "import pandas as pd\n",
    "import numpy as np\n",
    "import matplotlib.pyplot as plt\n",
    "import pandas_profiling\n",
    "import datetime\n",
    "from kmodes.kmodes import KModes\n",
    "from kmodes.kprototypes import KPrototypes\n",
    "from sklearn.preprocessing import LabelEncoder, Imputer, StandardScaler\n",
    "from sklearn.cluster import KMeans\n",
    "from jupyterthemes import jtplot\n",
    "jtplot.style()\n",
    "%matplotlib inline"
   ]
  },
  {
   "cell_type": "code",
   "execution_count": 12,
   "metadata": {
    "collapsed": false
   },
   "outputs": [],
   "source": [
    "#path =r'C:\\DRO\\DCL_rawdata_files' # use your path\n",
    "allFiles = glob.glob(\"*-*.csv\")\n",
    "frame = pd.DataFrame()\n",
    "list_ = []\n",
    "for file_ in allFiles:\n",
    "    df = pd.read_csv(file_,index_col=None, header=0, encoding='latin_1')\n",
    "    list_.append(df)\n",
    "df = pd.concat(list_)"
   ]
  },
  {
   "cell_type": "code",
   "execution_count": 25,
   "metadata": {
    "collapsed": false
   },
   "outputs": [
    {
     "data": {
      "text/plain": [
       "follows_subject  verified\n",
       "1.017281e+09     False        7763\n",
       "                 True          104\n",
       "2.875502e+09     False       11328\n",
       "                 True          189\n",
       "8.743764e+17     False       21882\n",
       "                 True           80\n",
       "8.772527e+17     False         422\n",
       "                 True           10\n",
       "9.196453e+17     False         998\n",
       "                 True           19\n",
       "Name: user_id, dtype: int64"
      ]
     },
     "execution_count": 25,
     "metadata": {},
     "output_type": "execute_result"
    }
   ],
   "source": [
    "df.groupby(['follows_subject','verified'])['user_id'].count()"
   ]
  },
  {
   "cell_type": "code",
   "execution_count": 28,
   "metadata": {
    "collapsed": false
   },
   "outputs": [
    {
     "data": {
      "text/plain": [
       "(36253,)"
      ]
     },
     "execution_count": 28,
     "metadata": {},
     "output_type": "execute_result"
    }
   ],
   "source": [
    "df['user_id'].unique().shape # overlap of ids across subsets"
   ]
  },
  {
   "cell_type": "code",
   "execution_count": 32,
   "metadata": {
    "collapsed": false
   },
   "outputs": [
    {
     "data": {
      "text/plain": [
       "verified\n",
       "False    42393\n",
       "True       402\n",
       "Name: user_id, dtype: int64"
      ]
     },
     "execution_count": 32,
     "metadata": {},
     "output_type": "execute_result"
    }
   ],
   "source": [
    "df.groupby(['verified'])['user_id'].count()"
   ]
  },
  {
   "cell_type": "code",
   "execution_count": 29,
   "metadata": {
    "collapsed": true
   },
   "outputs": [],
   "source": [
    "df2 = df.drop_duplicates(subset='user_id',keep='first')"
   ]
  },
  {
   "cell_type": "code",
   "execution_count": 31,
   "metadata": {
    "collapsed": false
   },
   "outputs": [
    {
     "data": {
      "text/plain": [
       "verified\n",
       "False    35945\n",
       "True       307\n",
       "Name: user_id, dtype: int64"
      ]
     },
     "execution_count": 31,
     "metadata": {},
     "output_type": "execute_result"
    }
   ],
   "source": [
    "df2.groupby(['verified'])['user_id'].count()"
   ]
  },
  {
   "cell_type": "code",
   "execution_count": 19,
   "metadata": {
    "collapsed": false
   },
   "outputs": [
    {
     "data": {
      "text/plain": [
       "['contributors_enabled',\n",
       " 'created_at',\n",
       " 'default_profile',\n",
       " 'default_profile_image',\n",
       " 'description',\n",
       " 'favourites_count',\n",
       " 'followers_count',\n",
       " 'friends_count',\n",
       " 'geo_enabled',\n",
       " 'lang',\n",
       " 'listed_count',\n",
       " 'location',\n",
       " 'name',\n",
       " 'profile_background_color',\n",
       " 'profile_background_image_url',\n",
       " 'profile_background_tile',\n",
       " 'profile_banner_url',\n",
       " 'profile_image_url',\n",
       " 'profile_link_color',\n",
       " 'profile_sidebar_fill_color',\n",
       " 'profile_text_color',\n",
       " 'protected',\n",
       " 'screen_name',\n",
       " 'status_created_at',\n",
       " 'status_hashtags',\n",
       " 'status_lang',\n",
       " 'statuses_count',\n",
       " 'text',\n",
       " 'time_zone',\n",
       " 'url',\n",
       " 'user_id',\n",
       " 'user_mentions',\n",
       " 'verified',\n",
       " 'follows_subject']"
      ]
     },
     "execution_count": 19,
     "metadata": {},
     "output_type": "execute_result"
    }
   ],
   "source": [
    "list(df)"
   ]
  },
  {
   "cell_type": "code",
   "execution_count": 321,
   "metadata": {
    "collapsed": false
   },
   "outputs": [],
   "source": [
    "mappings = {\"contributors_enabled\": {\"False\": 0, \"True\": 1},\"default_profile\": {\"False\": 0, \"True\": 1},\n",
    "            \"default_profile_image\": {\"False\": 0, \"True\": 1},\"geo_enabled\": {\"False\": 0, \"True\": 1}\n",
    "           }"
   ]
  },
  {
   "cell_type": "code",
   "execution_count": 322,
   "metadata": {
    "collapsed": true
   },
   "outputs": [],
   "source": [
    "en_maps = {'en-gb': 'en', \"en-GB\": 'en'} #merge gb english with general english\n",
    "df['lang'] = df['lang'].replace(en_maps)\n",
    "df['status_lang'] = df['status_lang'].replace(en_maps)\n",
    "#df.loc[df['lang'] != 'en', 'lang'] = 1 #encode non english as 1\n",
    "#df['lang'].unique()"
   ]
  },
  {
   "cell_type": "code",
   "execution_count": 323,
   "metadata": {
    "collapsed": false
   },
   "outputs": [],
   "source": [
    "#convert datetime fields\n",
    "df['created_at'] = pd.to_datetime(df['created_at'])\n",
    "df['status_created_at'] = pd.to_datetime(df['status_created_at'])\n",
    "#generate time distance features\n",
    "df['age'] = datetime.date(2018, 2, 9) - df['created_at']\n",
    "df['age'] = df['age'].dt.days\n",
    "df['activity_statuses'] = df['statuses_count'] / df['age']\n",
    "df['activity_friends'] = df['friends_count'] / df['age']\n",
    "df['activity_last_status'] = datetime.date(2018, 2, 9) - df['status_created_at']\n",
    "df['activity_last_status'] = df['activity_last_status'].dt.seconds"
   ]
  },
  {
   "cell_type": "code",
   "execution_count": null,
   "metadata": {
    "collapsed": false
   },
   "outputs": [],
   "source": []
  },
  {
   "cell_type": "code",
   "execution_count": 324,
   "metadata": {
    "collapsed": false
   },
   "outputs": [],
   "source": [
    "# Feature Scaling of variables\n",
    "#X = X.astype(int)\n",
    "#scaler = StandardScaler()\n",
    "#X = scaler.fit_transform(X)"
   ]
  },
  {
   "cell_type": "code",
   "execution_count": 41,
   "metadata": {
    "collapsed": false
   },
   "outputs": [
    {
     "data": {
      "text/plain": [
       "False    37873\n",
       "True      3937\n",
       "False      900\n",
       "True        95\n",
       "en           5\n",
       "Name: protected, dtype: int64"
      ]
     },
     "execution_count": 41,
     "metadata": {},
     "output_type": "execute_result"
    }
   ],
   "source": [
    "df['protected'].value_counts()"
   ]
  },
  {
   "cell_type": "code",
   "execution_count": 42,
   "metadata": {
    "collapsed": false
   },
   "outputs": [],
   "source": [
    "#df.dtypes"
   ]
  },
  {
   "cell_type": "code",
   "execution_count": 326,
   "metadata": {
    "collapsed": false
   },
   "outputs": [],
   "source": [
    "#select features for kmodes clustering\n",
    "features = [\n",
    " 'user_id',\n",
    " 'favourites_count',\n",
    " 'followers_count',\n",
    " 'friends_count',\n",
    " 'listed_count',\n",
    " 'statuses_count',\n",
    " 'activity_statuses',\n",
    " 'activity_friends',\n",
    " 'activity_last_status',\n",
    " 'age'\n",
    " 'contributors_enabled',\n",
    " #'created_at',\n",
    " 'default_profile',\n",
    " 'default_profile_image',\n",
    " #'description',\n",
    " 'geo_enabled',\n",
    " 'lang',\n",
    " #'location',\n",
    " #'name',\n",
    " #'profile_background_color',\n",
    " #'profile_background_image_url',\n",
    " #'profile_background_tile',\n",
    " #'profile_banner_url',\n",
    " #'profile_image_url',\n",
    " #'profile_link_color',\n",
    " #'profile_sidebar_fill_color',\n",
    " #'profile_text_color',\n",
    " 'protected',\n",
    " #'screen_name',\n",
    " 'status_created_at',\n",
    " #'status_hashtags',\n",
    " 'status_lang',\n",
    " #'text',\n",
    " 'time_zone',\n",
    " #'url',\n",
    " #'user_mentions',\n",
    " 'verified',\n",
    " #'follows_subject',\n",
    "]"
   ]
  },
  {
   "cell_type": "code",
   "execution_count": 327,
   "metadata": {
    "collapsed": false
   },
   "outputs": [],
   "source": [
    "df = df[features]"
   ]
  },
  {
   "cell_type": "code",
   "execution_count": 328,
   "metadata": {
    "collapsed": false
   },
   "outputs": [
    {
     "data": {
      "text/html": [
       "<div>\n",
       "<style>\n",
       "    .dataframe thead tr:only-child th {\n",
       "        text-align: right;\n",
       "    }\n",
       "\n",
       "    .dataframe thead th {\n",
       "        text-align: left;\n",
       "    }\n",
       "\n",
       "    .dataframe tbody tr th {\n",
       "        vertical-align: top;\n",
       "    }\n",
       "</style>\n",
       "<table border=\"1\" class=\"dataframe\">\n",
       "  <thead>\n",
       "    <tr style=\"text-align: right;\">\n",
       "      <th></th>\n",
       "      <th>user_id</th>\n",
       "      <th>favourites_count</th>\n",
       "      <th>followers_count</th>\n",
       "      <th>friends_count</th>\n",
       "      <th>listed_count</th>\n",
       "      <th>statuses_count</th>\n",
       "      <th>activity_statuses</th>\n",
       "      <th>activity_friends</th>\n",
       "      <th>activity_last_status</th>\n",
       "    </tr>\n",
       "  </thead>\n",
       "  <tbody>\n",
       "    <tr>\n",
       "      <th>count</th>\n",
       "      <td>1.017000e+03</td>\n",
       "      <td>1017.000000</td>\n",
       "      <td>1.017000e+03</td>\n",
       "      <td>1.017000e+03</td>\n",
       "      <td>1017.000000</td>\n",
       "      <td>1017.000000</td>\n",
       "      <td>1017.000000</td>\n",
       "      <td>1017.000000</td>\n",
       "      <td>981.000000</td>\n",
       "    </tr>\n",
       "    <tr>\n",
       "      <th>mean</th>\n",
       "      <td>3.326716e+17</td>\n",
       "      <td>9246.401180</td>\n",
       "      <td>3.891214e+04</td>\n",
       "      <td>3.187525e+04</td>\n",
       "      <td>96.929204</td>\n",
       "      <td>13497.054081</td>\n",
       "      <td>9.348822</td>\n",
       "      <td>85.110389</td>\n",
       "      <td>35167.731906</td>\n",
       "    </tr>\n",
       "    <tr>\n",
       "      <th>std</th>\n",
       "      <td>4.242292e+17</td>\n",
       "      <td>22049.820106</td>\n",
       "      <td>1.173876e+05</td>\n",
       "      <td>7.669616e+04</td>\n",
       "      <td>288.989454</td>\n",
       "      <td>33697.292278</td>\n",
       "      <td>22.707394</td>\n",
       "      <td>175.668456</td>\n",
       "      <td>17858.036210</td>\n",
       "    </tr>\n",
       "    <tr>\n",
       "      <th>min</th>\n",
       "      <td>1.057211e+06</td>\n",
       "      <td>0.000000</td>\n",
       "      <td>0.000000e+00</td>\n",
       "      <td>1.300000e+01</td>\n",
       "      <td>0.000000</td>\n",
       "      <td>0.000000</td>\n",
       "      <td>0.000000</td>\n",
       "      <td>0.027317</td>\n",
       "      <td>177.000000</td>\n",
       "    </tr>\n",
       "    <tr>\n",
       "      <th>25%</th>\n",
       "      <td>3.811644e+08</td>\n",
       "      <td>27.000000</td>\n",
       "      <td>7.210000e+02</td>\n",
       "      <td>1.207000e+03</td>\n",
       "      <td>5.000000</td>\n",
       "      <td>225.000000</td>\n",
       "      <td>0.553681</td>\n",
       "      <td>0.787084</td>\n",
       "      <td>26187.000000</td>\n",
       "    </tr>\n",
       "    <tr>\n",
       "      <th>50%</th>\n",
       "      <td>2.937702e+09</td>\n",
       "      <td>909.000000</td>\n",
       "      <td>2.883000e+03</td>\n",
       "      <td>3.766000e+03</td>\n",
       "      <td>24.000000</td>\n",
       "      <td>1774.000000</td>\n",
       "      <td>2.068376</td>\n",
       "      <td>3.973918</td>\n",
       "      <td>31233.000000</td>\n",
       "    </tr>\n",
       "    <tr>\n",
       "      <th>75%</th>\n",
       "      <td>8.480794e+17</td>\n",
       "      <td>7164.000000</td>\n",
       "      <td>3.506500e+04</td>\n",
       "      <td>3.049900e+04</td>\n",
       "      <td>86.000000</td>\n",
       "      <td>10932.000000</td>\n",
       "      <td>7.915198</td>\n",
       "      <td>81.008439</td>\n",
       "      <td>44401.000000</td>\n",
       "    </tr>\n",
       "    <tr>\n",
       "      <th>max</th>\n",
       "      <td>9.612170e+17</td>\n",
       "      <td>223356.000000</td>\n",
       "      <td>2.026718e+06</td>\n",
       "      <td>1.316518e+06</td>\n",
       "      <td>6839.000000</td>\n",
       "      <td>417299.000000</td>\n",
       "      <td>261.084192</td>\n",
       "      <td>2002.000000</td>\n",
       "      <td>86035.000000</td>\n",
       "    </tr>\n",
       "  </tbody>\n",
       "</table>\n",
       "</div>"
      ],
      "text/plain": [
       "            user_id  favourites_count  followers_count  friends_count  \\\n",
       "count  1.017000e+03       1017.000000     1.017000e+03   1.017000e+03   \n",
       "mean   3.326716e+17       9246.401180     3.891214e+04   3.187525e+04   \n",
       "std    4.242292e+17      22049.820106     1.173876e+05   7.669616e+04   \n",
       "min    1.057211e+06          0.000000     0.000000e+00   1.300000e+01   \n",
       "25%    3.811644e+08         27.000000     7.210000e+02   1.207000e+03   \n",
       "50%    2.937702e+09        909.000000     2.883000e+03   3.766000e+03   \n",
       "75%    8.480794e+17       7164.000000     3.506500e+04   3.049900e+04   \n",
       "max    9.612170e+17     223356.000000     2.026718e+06   1.316518e+06   \n",
       "\n",
       "       listed_count  statuses_count  activity_statuses  activity_friends  \\\n",
       "count   1017.000000     1017.000000        1017.000000       1017.000000   \n",
       "mean      96.929204    13497.054081           9.348822         85.110389   \n",
       "std      288.989454    33697.292278          22.707394        175.668456   \n",
       "min        0.000000        0.000000           0.000000          0.027317   \n",
       "25%        5.000000      225.000000           0.553681          0.787084   \n",
       "50%       24.000000     1774.000000           2.068376          3.973918   \n",
       "75%       86.000000    10932.000000           7.915198         81.008439   \n",
       "max     6839.000000   417299.000000         261.084192       2002.000000   \n",
       "\n",
       "       activity_last_status  \n",
       "count            981.000000  \n",
       "mean           35167.731906  \n",
       "std            17858.036210  \n",
       "min              177.000000  \n",
       "25%            26187.000000  \n",
       "50%            31233.000000  \n",
       "75%            44401.000000  \n",
       "max            86035.000000  "
      ]
     },
     "execution_count": 328,
     "metadata": {},
     "output_type": "execute_result"
    }
   ],
   "source": [
    "df.describe()"
   ]
  },
  {
   "cell_type": "code",
   "execution_count": 329,
   "metadata": {
    "collapsed": true
   },
   "outputs": [],
   "source": [
    "# Taking care of missing data\n",
    "cols = list(df)\n",
    "fill_NaN = Imputer(missing_values=np.nan, strategy='mean', axis=1)\n",
    "df = pd.DataFrame(fill_NaN.fit_transform(df))\n",
    "df.columns = cols"
   ]
  },
  {
   "cell_type": "code",
   "execution_count": 330,
   "metadata": {
    "collapsed": false
   },
   "outputs": [
    {
     "name": "stderr",
     "output_type": "stream",
     "text": [
      "C:\\Users\\joshua.bramall\\AppData\\Local\\Continuum\\Anaconda3\\lib\\site-packages\\matplotlib\\figure.py:1742: UserWarning: This figure includes Axes that are not compatible with tight_layout, so its results might be incorrect.\n",
      "  warnings.warn(\"This figure includes Axes that are not \"\n"
     ]
    },
    {
     "data": {
      "image/png": "[encoded data removed]",
      "text/plain": [
       "<matplotlib.figure.Figure at 0x27d5d9e5668>"
      ]
     },
     "metadata": {},
     "output_type": "display_data"
    }
   ],
   "source": [
    "# Using the elbow method to find the optimal number of clusters\n",
    "x = df.as_matrix(columns=None)\n",
    "wcss = []\n",
    "for i in range(1, 11):\n",
    "    kmeans = KMeans(n_clusters = i, init = 'k-means++', random_state = 42)\n",
    "    kmeans.fit(x)\n",
    "    wcss.append(kmeans.inertia_)\n",
    "plt.plot(range(1, 11), wcss)\n",
    "plt.title('The Elbow Method')\n",
    "plt.xlabel('Number of clusters')\n",
    "plt.ylabel('WCSS')\n",
    "plt.show()"
   ]
  },
  {
   "cell_type": "code",
   "execution_count": 331,
   "metadata": {
    "collapsed": false
   },
   "outputs": [
    {
     "name": "stdout",
     "output_type": "stream",
     "text": [
      "Initialization method and algorithm are deterministic. Setting n_init to 1.\n"
     ]
    },
    {
     "ename": "NotImplementedError",
     "evalue": "No categorical data selected, effectively doing k-means. Present a list of categorical columns, or use scikit-learn's KMeans instead.",
     "output_type": "error",
     "traceback": [
      "\u001b[0;31m---------------------------------------------------------------------------\u001b[0m",
      "\u001b[0;31mNotImplementedError\u001b[0m                       Traceback (most recent call last)",
      "\u001b[0;32m<ipython-input-331-dd1472a41176>\u001b[0m in \u001b[0;36m<module>\u001b[0;34m()\u001b[0m\n\u001b[1;32m     10\u001b[0m \u001b[1;33m\u001b[0m\u001b[0m\n\u001b[1;32m     11\u001b[0m \u001b[0mkproto\u001b[0m \u001b[1;33m=\u001b[0m \u001b[0mKPrototypes\u001b[0m\u001b[1;33m(\u001b[0m\u001b[0mn_clusters\u001b[0m\u001b[1;33m=\u001b[0m\u001b[1;36m4\u001b[0m\u001b[1;33m,\u001b[0m \u001b[0minit\u001b[0m\u001b[1;33m=\u001b[0m\u001b[1;34m'Cao'\u001b[0m\u001b[1;33m,\u001b[0m \u001b[0mverbose\u001b[0m\u001b[1;33m=\u001b[0m\u001b[1;36m2\u001b[0m\u001b[1;33m)\u001b[0m\u001b[1;33m\u001b[0m\u001b[0m\n\u001b[0;32m---> 12\u001b[0;31m \u001b[0mclusters\u001b[0m \u001b[1;33m=\u001b[0m \u001b[0mkproto\u001b[0m\u001b[1;33m.\u001b[0m\u001b[0mfit_predict\u001b[0m\u001b[1;33m(\u001b[0m\u001b[0mX\u001b[0m\u001b[1;33m,\u001b[0m \u001b[0mcategorical\u001b[0m\u001b[1;33m=\u001b[0m\u001b[1;33m[\u001b[0m\u001b[1;33m]\u001b[0m\u001b[1;33m)\u001b[0m\u001b[1;33m\u001b[0m\u001b[0m\n\u001b[0m\u001b[1;32m     13\u001b[0m \u001b[1;33m\u001b[0m\u001b[0m\n\u001b[1;32m     14\u001b[0m \u001b[1;31m# Print cluster centroids of the trained model.\u001b[0m\u001b[1;33m\u001b[0m\u001b[1;33m\u001b[0m\u001b[0m\n",
      "\u001b[0;32mC:\\Users\\joshua.bramall\\AppData\\Local\\Continuum\\Anaconda3\\lib\\site-packages\\kmodes\\kmodes.py\u001b[0m in \u001b[0;36mfit_predict\u001b[0;34m(self, X, y, **kwargs)\u001b[0m\n\u001b[1;32m    374\u001b[0m         \u001b[0mpredict\u001b[0m\u001b[1;33m(\u001b[0m\u001b[0mX\u001b[0m\u001b[1;33m)\u001b[0m\u001b[1;33m.\u001b[0m\u001b[1;33m\u001b[0m\u001b[0m\n\u001b[1;32m    375\u001b[0m         \"\"\"\n\u001b[0;32m--> 376\u001b[0;31m         \u001b[1;32mreturn\u001b[0m \u001b[0mself\u001b[0m\u001b[1;33m.\u001b[0m\u001b[0mfit\u001b[0m\u001b[1;33m(\u001b[0m\u001b[0mX\u001b[0m\u001b[1;33m,\u001b[0m \u001b[1;33m**\u001b[0m\u001b[0mkwargs\u001b[0m\u001b[1;33m)\u001b[0m\u001b[1;33m.\u001b[0m\u001b[0mpredict\u001b[0m\u001b[1;33m(\u001b[0m\u001b[0mX\u001b[0m\u001b[1;33m,\u001b[0m \u001b[1;33m**\u001b[0m\u001b[0mkwargs\u001b[0m\u001b[1;33m)\u001b[0m\u001b[1;33m\u001b[0m\u001b[0m\n\u001b[0m\u001b[1;32m    377\u001b[0m \u001b[1;33m\u001b[0m\u001b[0m\n\u001b[1;32m    378\u001b[0m     \u001b[1;32mdef\u001b[0m \u001b[0mpredict\u001b[0m\u001b[1;33m(\u001b[0m\u001b[0mself\u001b[0m\u001b[1;33m,\u001b[0m \u001b[0mX\u001b[0m\u001b[1;33m,\u001b[0m \u001b[1;33m**\u001b[0m\u001b[0mkwargs\u001b[0m\u001b[1;33m)\u001b[0m\u001b[1;33m:\u001b[0m\u001b[1;33m\u001b[0m\u001b[0m\n",
      "\u001b[0;32mC:\\Users\\joshua.bramall\\AppData\\Local\\Continuum\\Anaconda3\\lib\\site-packages\\kmodes\\kprototypes.py\u001b[0m in \u001b[0;36mfit\u001b[0;34m(self, X, y, categorical)\u001b[0m\n\u001b[1;32m    417\u001b[0m                                                     \u001b[0mself\u001b[0m\u001b[1;33m.\u001b[0m\u001b[0minit\u001b[0m\u001b[1;33m,\u001b[0m\u001b[1;33m\u001b[0m\u001b[0m\n\u001b[1;32m    418\u001b[0m                                                     \u001b[0mself\u001b[0m\u001b[1;33m.\u001b[0m\u001b[0mn_init\u001b[0m\u001b[1;33m,\u001b[0m\u001b[1;33m\u001b[0m\u001b[0m\n\u001b[0;32m--> 419\u001b[0;31m                                                     self.verbose)\n\u001b[0m\u001b[1;32m    420\u001b[0m         \u001b[1;32mreturn\u001b[0m \u001b[0mself\u001b[0m\u001b[1;33m\u001b[0m\u001b[0m\n\u001b[1;32m    421\u001b[0m \u001b[1;33m\u001b[0m\u001b[0m\n",
      "\u001b[0;32mC:\\Users\\joshua.bramall\\AppData\\Local\\Continuum\\Anaconda3\\lib\\site-packages\\kmodes\\kprototypes.py\u001b[0m in \u001b[0;36mk_prototypes\u001b[0;34m(X, categorical, n_clusters, max_iter, num_dissim, cat_dissim, gamma, init, n_init, verbose)\u001b[0m\n\u001b[1;32m    138\u001b[0m     \u001b[1;32mif\u001b[0m \u001b[0mcategorical\u001b[0m \u001b[1;32mis\u001b[0m \u001b[1;32mNone\u001b[0m \u001b[1;32mor\u001b[0m \u001b[1;32mnot\u001b[0m \u001b[0mcategorical\u001b[0m\u001b[1;33m:\u001b[0m\u001b[1;33m\u001b[0m\u001b[0m\n\u001b[1;32m    139\u001b[0m         raise NotImplementedError(\n\u001b[0;32m--> 140\u001b[0;31m             \u001b[1;34m\"No categorical data selected, effectively doing k-means. \"\u001b[0m\u001b[1;33m\u001b[0m\u001b[0m\n\u001b[0m\u001b[1;32m    141\u001b[0m             \u001b[1;34m\"Present a list of categorical columns, or use scikit-learn's \"\u001b[0m\u001b[1;33m\u001b[0m\u001b[0m\n\u001b[1;32m    142\u001b[0m             \u001b[1;34m\"KMeans instead.\"\u001b[0m\u001b[1;33m\u001b[0m\u001b[0m\n",
      "\u001b[0;31mNotImplementedError\u001b[0m: No categorical data selected, effectively doing k-means. Present a list of categorical columns, or use scikit-learn's KMeans instead."
     ]
    }
   ],
   "source": [
    "#kprototypes module handles mix of categorical and continuous features - https://github.com/nicodv/kmodes\n",
    "\n",
    "# stocks with their market caps, sectors and countries\n",
    "syms = df['user_id'].values\n",
    "X = df.drop('user_id', 1).values\n",
    "X = X.astype(float)\n",
    "#label encode categorical features\n",
    "#le = LabelEncoder()\n",
    "#le.fit_transform(X)\n",
    "\n",
    "kproto = KPrototypes(n_clusters=4, init='Cao', verbose=2)\n",
    "clusters = kproto.fit_predict(X, categorical=[])\n",
    "\n",
    "# Print cluster centroids of the trained model.\n",
    "print(kproto.cluster_centroids_)\n",
    "# Print training statistics\n",
    "print(kproto.cost_)\n",
    "print(kproto.n_iter_)\n",
    "\n",
    "for s, c in zip(syms, clusters):\n",
    "    print(\"Symbol: {}, cluster:{}\".format(s, c))"
   ]
  },
  {
   "cell_type": "code",
   "execution_count": null,
   "metadata": {
    "collapsed": false
   },
   "outputs": [],
   "source": [
    "import numpy as np\n",
    "from kmodes.kprototypes import KPrototypes\n",
    "\n",
    "# stocks with their market caps, sectors and countries\n",
    "syms = np.genfromtxt('stocks.csv', dtype=str, delimiter=',')[:, 0]\n",
    "X = np.genfromtxt('stocks.csv', dtype=object, delimiter=',')[:, 1:]\n",
    "X[:, 0] = X[:, 0].astype(float)\n",
    "\n",
    "kproto = KPrototypes(n_clusters=4, init='Cao', verbose=2)\n",
    "clusters = kproto.fit_predict(X, categorical=[1, 2])\n",
    "\n",
    "# Print cluster centroids of the trained model.\n",
    "print(kproto.cluster_centroids_)\n",
    "# Print training statistics\n",
    "print(kproto.cost_)\n",
    "print(kproto.n_iter_)\n",
    "\n",
    "for s, c in zip(syms, clusters):\n",
    "    print(\"Symbol: {}, cluster:{}\".format(s, c))"
   ]
  },
  {
   "cell_type": "code",
   "execution_count": null,
   "metadata": {
    "collapsed": false
   },
   "outputs": [],
   "source": []
  },
  {
   "cell_type": "code",
   "execution_count": null,
   "metadata": {
    "collapsed": false
   },
   "outputs": [],
   "source": []
  },
  {
   "cell_type": "code",
   "execution_count": null,
   "metadata": {
    "collapsed": false
   },
   "outputs": [],
   "source": []
  },
  {
   "cell_type": "code",
   "execution_count": null,
   "metadata": {
    "collapsed": true
   },
   "outputs": [],
   "source": []
  }
 ],
 "metadata": {
  "kernelspec": {
   "display_name": "Python 3",
   "language": "python",
   "name": "python3"
  },
  "language_info": {
   "codemirror_mode": {
    "name": "ipython",
    "version": 3
   },
   "file_extension": ".py",
   "mimetype": "text/x-python",
   "name": "python",
   "nbconvert_exporter": "python",
   "pygments_lexer": "ipython3",
   "version": "3.6.0"
  }
 },
 "nbformat": 4,
 "nbformat_minor": 2
}
