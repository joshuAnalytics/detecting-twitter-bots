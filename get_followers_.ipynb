{
 "cells": [
  {
   "cell_type": "code",
   "execution_count": 22,
   "metadata": {
    "collapsed": true
   },
   "outputs": [],
   "source": [
    "import twitter\n",
    "import sqlite3\n",
    "import pandas as pd\n",
    "import time"
   ]
  },
  {
   "cell_type": "code",
   "execution_count": 23,
   "metadata": {
    "collapsed": true
   },
   "outputs": [],
   "source": [
    "key = 1"
   ]
  },
  {
   "cell_type": "code",
   "execution_count": 24,
   "metadata": {
    "collapsed": false
   },
   "outputs": [
    {
     "name": "stdout",
     "output_type": "stream",
     "text": [
      "{\"created_at\": \"Mon Sep 28 09:54:32 +0000 2015\", \"default_profile\": true, \"followers_count\": 1, \"friends_count\": 4, \"id\": 3802483943, \"lang\": \"en-gb\", \"name\": \"joshuaB\", \"profile_background_color\": \"C0DEED\", \"profile_background_image_url\": \"http://abs.twimg.com/images/themes/theme1/bg.png\", \"profile_image_url\": \"http://pbs.twimg.com/profile_images/725093189988835330/kJyLXfR5_normal.jpg\", \"profile_link_color\": \"1DA1F2\", \"profile_sidebar_fill_color\": \"DDEEF6\", \"profile_text_color\": \"333333\", \"screen_name\": \"joshuAnalytics\"}\n"
     ]
    }
   ],
   "source": [
    "if key == 1:\n",
    "    api = twitter.Api(consumer_key='',\n",
    "                      consumer_secret='',\n",
    "                      access_token_key='',\n",
    "                      access_token_secret='',\n",
    "                     sleep_on_rate_limit=True)\n",
    "    print (api.VerifyCredentials()) \n",
    "else: # alternative creds\n",
    "    api = twitter.Api(consumer_key='',\n",
    "                      consumer_secret='',\n",
    "                      access_token_key='',\n",
    "                      access_token_secret='',\n",
    "                     sleep_on_rate_limit=True)\n",
    "    print (api.VerifyCredentials())"
   ]
  },
  {
   "cell_type": "code",
   "execution_count": 25,
   "metadata": {
    "collapsed": true
   },
   "outputs": [],
   "source": [
    "#peter whittle 2875501614 #moggmentum 874376431949795330 #davidkurten 1017280993"
   ]
  },
  {
   "cell_type": "code",
   "execution_count": 26,
   "metadata": {
    "collapsed": false
   },
   "outputs": [
    {
     "name": "stdout",
     "output_type": "stream",
     "text": [
      "returned page 1 of followers\n",
      "created 1017280993-1.csv\n",
      "returned page 2 of followers\n",
      "created 1017280993-2.csv\n",
      "returned page 3 of followers\n",
      "created 1017280993-3.csv\n",
      "returned page 4 of followers\n",
      "created 1017280993-4.csv\n",
      "returned page 5 of followers\n",
      "created 1017280993-5.csv\n",
      "returned page 6 of followers\n",
      "created 1017280993-6.csv\n",
      "returned page 7 of followers\n",
      "created 1017280993-7.csv\n",
      "returned page 8 of followers\n",
      "created 1017280993-8.csv\n",
      "returned page 9 of followers\n",
      "created 1017280993-9.csv\n",
      "returned page 10 of followers\n",
      "created 1017280993-10.csv\n",
      "returned page 11 of followers\n",
      "created 1017280993-11.csv\n",
      "returned page 12 of followers\n",
      "created 1017280993-12.csv\n",
      "returned page 13 of followers\n",
      "created 1017280993-13.csv\n",
      "returned page 14 of followers\n",
      "created 1017280993-14.csv\n",
      "returned page 15 of followers\n",
      "created 1017280993-15.csv\n",
      "[{'message': 'Rate limit exceeded', 'code': 88}]\n",
      "[{'message': 'Rate limit exceeded', 'code': 88}]\n",
      "[{'message': 'Rate limit exceeded', 'code': 88}]\n",
      "[{'message': 'Rate limit exceeded', 'code': 88}]\n",
      "returned page 16 of followers\n",
      "created 1017280993-16.csv\n",
      "returned page 17 of followers\n",
      "created 1017280993-17.csv\n",
      "returned page 18 of followers\n",
      "created 1017280993-18.csv\n",
      "returned page 19 of followers\n",
      "created 1017280993-19.csv\n",
      "returned page 20 of followers\n",
      "created 1017280993-20.csv\n",
      "returned page 21 of followers\n",
      "created 1017280993-21.csv\n",
      "returned page 22 of followers\n",
      "created 1017280993-22.csv\n",
      "returned page 23 of followers\n",
      "created 1017280993-23.csv\n",
      "returned page 24 of followers\n",
      "created 1017280993-24.csv\n",
      "returned page 25 of followers\n",
      "created 1017280993-25.csv\n",
      "returned page 26 of followers\n",
      "created 1017280993-26.csv\n",
      "returned page 27 of followers\n",
      "created 1017280993-27.csv\n",
      "returned page 28 of followers\n",
      "created 1017280993-28.csv\n",
      "returned page 29 of followers\n",
      "created 1017280993-29.csv\n",
      "returned page 30 of followers\n",
      "created 1017280993-30.csv\n",
      "[{'message': 'Rate limit exceeded', 'code': 88}]\n",
      "[{'message': 'Rate limit exceeded', 'code': 88}]\n",
      "[{'message': 'Rate limit exceeded', 'code': 88}]\n",
      "[{'message': 'Rate limit exceeded', 'code': 88}]\n",
      "returned page 31 of followers\n",
      "created 1017280993-31.csv\n",
      "returned page 32 of followers\n",
      "created 1017280993-32.csv\n",
      "returned page 33 of followers\n",
      "created 1017280993-33.csv\n",
      "returned page 34 of followers\n",
      "created 1017280993-34.csv\n",
      "returned page 35 of followers\n",
      "created 1017280993-35.csv\n",
      "returned page 36 of followers\n",
      "created 1017280993-36.csv\n",
      "returned page 37 of followers\n",
      "created 1017280993-37.csv\n",
      "returned page 38 of followers\n",
      "created 1017280993-38.csv\n",
      "returned page 39 of followers\n",
      "created 1017280993-39.csv\n",
      "returned page 40 of followers\n",
      "created 1017280993-40.csv\n",
      "*************************************completed download*************************************\n"
     ]
    }
   ],
   "source": [
    "subject = 1017280993 \n",
    "cursor = -1\n",
    "ids = []\n",
    "page_count = 1\n",
    "while cursor != 0: \n",
    "    try: \n",
    "        response = api.GetFollowersPaged(user_id=subject,cursor=cursor)\n",
    "        cursor = response[0] #take next cursor number from response\n",
    "        print ('returned page %d of followers' % (page_count))\n",
    "        time.sleep(6) #sleep 1 minute to handle rate limiting (max requests = 15 in 15 mins)\n",
    "        #create dataframe for GetFollowersPaged response (user-object) https://developer.twitter.com/en/docs/tweets/data-dictionary/overview/user-object\n",
    "        content = []\n",
    "        for u in response[2]:\n",
    "            info = {}\n",
    "            info['user_id'] = u.id\n",
    "            info['name'] = u.name\n",
    "            info['screen_name'] = u.screen_name\n",
    "            info['location'] = u.location\n",
    "            info['url'] = u.url\n",
    "            info['description'] = u.description\n",
    "            info['protected'] = u.protected\n",
    "            info['followers_count'] = u.followers_count\n",
    "            info['friends_count'] = u.friends_count\n",
    "            info['created_at'] = u.created_at\n",
    "            info['favourites_count'] = u.favourites_count\n",
    "            info['time_zone'] = u.time_zone\n",
    "            info['geo_enabled'] = u.geo_enabled\n",
    "            info['verified'] = u.verified\n",
    "            info['statuses_count'] = u.statuses_count\n",
    "            info['lang'] = u.lang\n",
    "            info['contributors_enabled'] = u.contributors_enabled\n",
    "            info['profile_background_image_url'] = u.profile_background_image_url\n",
    "            info['profile_background_color'] = u.profile_background_color\n",
    "            info['profile_background_tile'] = u.profile_background_tile\n",
    "            info['profile_banner_url'] = u.profile_banner_url\n",
    "            info['profile_image_url'] = u.profile_image_url \n",
    "            info['profile_banner_url'] = u.profile_banner_url\n",
    "            info['profile_link_color'] = u.profile_link_color\n",
    "            info['profile_sidebar_fill_color'] = u.profile_sidebar_fill_color\n",
    "            info['profile_text_color'] = u.profile_text_color\n",
    "            info['default_profile'] = u.default_profile\n",
    "            info['default_profile_image'] = u.default_profile_image\n",
    "            info['listed_count'] = u.listed_count\n",
    "            try:\n",
    "                info['status_created_at'] = u.status.created_at \n",
    "            except:\n",
    "                info['status_created_at'] = 'NaN'\n",
    "            try:\n",
    "                info['status_hashtags'] = u.status.hashtags \n",
    "            except:\n",
    "                info['status_hashtags'] = 'NaN'\n",
    "            try:\n",
    "                info['status_lang'] = u.status.lang \n",
    "            except:\n",
    "                info['status_lang'] = 'NaN'\n",
    "            try:\n",
    "                info['text'] = u.status.text \n",
    "            except:\n",
    "                info['text'] = 'NaN'\n",
    "            try:\n",
    "                info['user_mentions'] = u.status.user_mentions \n",
    "            except:\n",
    "                info['user_mentions'] = 'NaN'\n",
    "            content.append(info)\n",
    "        df = pd.DataFrame(content)\n",
    "        df['follows_subject'] = subject\n",
    "        filename = (str(subject) + '-' + str(page_count) + '.csv')\n",
    "        page_count +=1\n",
    "        df.to_csv(filename,encoding='utf-8',index=False)\n",
    "        print ('created %s' % (filename))\n",
    "    except Exception as e: \n",
    "        print(e)\n",
    "print ('*************************************completed download*************************************')"
   ]
  },
  {
   "cell_type": "code",
   "execution_count": null,
   "metadata": {
    "collapsed": false
   },
   "outputs": [],
   "source": []
  },
  {
   "cell_type": "code",
   "execution_count": 27,
   "metadata": {
    "collapsed": false
   },
   "outputs": [],
   "source": [
    "#df[df.user_mentions != 'NaN']"
   ]
  },
  {
   "cell_type": "code",
   "execution_count": null,
   "metadata": {
    "collapsed": false
   },
   "outputs": [],
   "source": []
  },
  {
   "cell_type": "code",
   "execution_count": null,
   "metadata": {
    "collapsed": false
   },
   "outputs": [],
   "source": []
  },
  {
   "cell_type": "code",
   "execution_count": null,
   "metadata": {
    "collapsed": false
   },
   "outputs": [],
   "source": []
  },
  {
   "cell_type": "code",
   "execution_count": null,
   "metadata": {
    "collapsed": false
   },
   "outputs": [],
   "source": []
  },
  {
   "cell_type": "code",
   "execution_count": null,
   "metadata": {
    "collapsed": true
   },
   "outputs": [],
   "source": []
  }
 ],
 "metadata": {
  "kernelspec": {
   "display_name": "Python 3",
   "language": "python",
   "name": "python3"
  },
  "language_info": {
   "codemirror_mode": {
    "name": "ipython",
    "version": 3
   },
   "file_extension": ".py",
   "mimetype": "text/x-python",
   "name": "python",
   "nbconvert_exporter": "python",
   "pygments_lexer": "ipython3",
   "version": "3.6.0"
  }
 },
 "nbformat": 4,
 "nbformat_minor": 2
}
